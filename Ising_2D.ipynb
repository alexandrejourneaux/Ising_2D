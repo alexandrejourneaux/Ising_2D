{
 "cells": [
  {
   "cell_type": "markdown",
   "id": "ddf3e5a0",
   "metadata": {},
   "source": [
    "# Ising model 2D"
   ]
  },
  {
   "cell_type": "markdown",
   "id": "9d13da3e",
   "metadata": {},
   "source": [
    "## Introduction"
   ]
  },
  {
   "cell_type": "markdown",
   "id": "a7ccecb8",
   "metadata": {},
   "source": [
    "We use in this Jupyter Notebook the `2D-Ising-Model-Package` python package to check that the basic expected properties of the two-dimensional Ising model are well predicted.\n",
    "In our simple model, the Ising model deals with an array of spins that interact with coupling constant $J$ with their nearest neighbours in an external field $h$ with the following hamiltonian:\n",
    "$$\n",
    "\\mathcal{H}(\\{\\sigma\\}) = - J \\sum_{\\langle i, j \\rangle} \\sigma_i \\sigma_j + h \\sum_i \\sigma_i\n",
    "$$"
   ]
  },
  {
   "cell_type": "markdown",
   "id": "5f6a8135",
   "metadata": {},
   "source": [
    "## Package installation"
   ]
  },
  {
   "cell_type": "markdown",
   "id": "3a931e17",
   "metadata": {},
   "source": [
    "The package that was used can be found on GitHub at https://github.com/stephen70/2D-Ising-Model-Package. It was cloned in the virtual machine via ssh. And can be installed thanks to pip by uncommenting and running this line:"
   ]
  },
  {
   "cell_type": "code",
   "execution_count": 3,
   "id": "90ca81b2",
   "metadata": {},
   "outputs": [
    {
     "name": "stdout",
     "output_type": "stream",
     "text": [
      "Obtaining file:///home/jovyan/2D-Ising-Model-Package\n",
      "Installing collected packages: ising2D\n",
      "  Attempting uninstall: ising2D\n",
      "    Found existing installation: ising2D 0.0.0\n",
      "    Uninstalling ising2D-0.0.0:\n",
      "      Successfully uninstalled ising2D-0.0.0\n",
      "  Running setup.py develop for ising2D\n",
      "Successfully installed ising2D-0.0.0\n"
     ]
    }
   ],
   "source": [
    "#!pip install -e ~/2D-Ising-Model-Package"
   ]
  }
 ],
 "metadata": {
  "kernelspec": {
   "display_name": "Python 3 (ipykernel)",
   "language": "python",
   "name": "python3"
  },
  "language_info": {
   "codemirror_mode": {
    "name": "ipython",
    "version": 3
   },
   "file_extension": ".py",
   "mimetype": "text/x-python",
   "name": "python",
   "nbconvert_exporter": "python",
   "pygments_lexer": "ipython3",
   "version": "3.9.6"
  }
 },
 "nbformat": 4,
 "nbformat_minor": 5
}
